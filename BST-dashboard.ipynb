{
 "cells": [
  {
   "cell_type": "markdown",
   "metadata": {},
   "source": [
    "# Theoretical Foundations of Buffer Stock Saving\n",
    "\n",
    "[![econ-ark.org](https://img.shields.io/badge/Powered%20by-Econ--ARK-3e8acc.svg)](https://econ-ark.org/materials/BufferStockTheory)"
   ]
  },
  {
   "cell_type": "code",
   "execution_count": 3,
   "metadata": {},
   "outputs": [],
   "source": [
    "from ipywidgets import interact, interactive, fixed, interact_manual\n",
    "from dashboard_widget import (\n",
    "    makeGICFailExample,\n",
    "    makeConvergencePlot,\n",
    "    DiscFac_widget,\n",
    "    CRRA_widget,\n",
    "    Rfree_widget,\n",
    "    PermGroFac_widget,\n",
    "    UnempPrb_widget,\n",
    "    IncUnemp_widget,\n",
    "    makeGrowthplot,\n",
    "    makeBoundsfig,\n",
    "    makeTargetMfig,\n",
    ")\n",
    "import HARK\n",
    "\n",
    "HARK.logging.disable()\n",
    "# The warnings package allows us to ignore some harmless but alarming warning messages\n",
    "import warnings\n",
    "\n",
    "warnings.filterwarnings(\"ignore\")"
   ]
  },
  {
   "cell_type": "markdown",
   "metadata": {},
   "source": [
    "## Convergence of the Consumption Rules\n",
    "\n",
    "Under the given parameter values, [the paper's first figure](http://econ.jhu.edu/people/ccarroll/papers/BufferStockTheory/#Convergence-of-the-Consumption-Rules) depicts the successive consumption rules that apply in the last period of life $(c_{T}(m))$, the second-to-last period, and earlier periods $(c_{T-n})$.  $c(m)$ is the consumption function to which these converge:\n",
    "\n",
    "$$\n",
    "c(m) = \\lim_{n \\uparrow \\infty} c_{T-n}(m)\n",
    "$$\n"
   ]
  },
  {
   "cell_type": "code",
   "execution_count": 4,
   "metadata": {},
   "outputs": [
    {
     "data": {
      "application/vnd.jupyter.widget-view+json": {
       "model_id": "8157d657605a4b39a2ea4983a8b3a701",
       "version_major": 2,
       "version_minor": 0
      },
      "text/plain": [
       "interactive(children=(FloatSlider(value=0.96, continuous_update=False, description='β', max=0.99, min=0.9, rea…"
      ]
     },
     "metadata": {},
     "output_type": "display_data"
    }
   ],
   "source": [
    "a = interactive(\n",
    "    makeConvergencePlot,\n",
    "    DiscFac=DiscFac_widget[0],\n",
    "    CRRA=CRRA_widget[0],\n",
    "    Rfree=Rfree_widget[0],\n",
    "    PermGroFac=PermGroFac_widget[0],\n",
    "    UnempPrb=UnempPrb_widget[0],\n",
    ")\n",
    "a"
   ]
  },
  {
   "cell_type": "markdown",
   "metadata": {},
   "source": [
    "## [If the GIC Fails, Target Wealth is Infinite ](http://econ.jhu.edu/people/ccarroll/papers/BufferStockTheory/#The-GIC)\n",
    "\n",
    "[A figure](http://econ.jhu.edu/people/ccarroll/papers/BufferStockTheory/#FVACnotGIC) depicts a solution when the **FVAC** (Finite Value of Autarky Condition) and **WRIC** hold (so that the model has a solution) but the **GIC** (Growth Impatience Condition) fails.  In this case the target wealth ratio is infinity.\n",
    "\n",
    "The parameter values in this specific example are:\n",
    "\n",
    "| Param | Description | Code | Value |\n",
    "| :---: | ---         | ---  | :---: |\n",
    "| Γ | Permanent Income Growth Factor | $\\texttt{PermGroFac}$ | 1.00 |\n",
    "| R | Interest Factor | $\\texttt{Rfree}$ | 1.06 |\n"
   ]
  },
  {
   "cell_type": "code",
   "execution_count": 5,
   "metadata": {
    "code_folding": [],
    "lines_to_next_cell": 2
   },
   "outputs": [
    {
     "data": {
      "application/vnd.jupyter.widget-view+json": {
       "model_id": "f41402f1b1eb463fb0b228b1ab020f89",
       "version_major": 2,
       "version_minor": 0
      },
      "text/plain": [
       "interactive(children=(FloatSlider(value=1.04, continuous_update=False, description='R', max=1.08, min=1.01, re…"
      ]
     },
     "metadata": {},
     "output_type": "display_data"
    }
   ],
   "source": [
    "b = interactive(\n",
    "    makeGICFailExample, Rfree=Rfree_widget[1], PermGroFac=PermGroFac_widget[1]\n",
    ")\n",
    "b"
   ]
  },
  {
   "cell_type": "markdown",
   "metadata": {},
   "source": [
    "### [Target $m$, Expected Consumption Growth, and Permanent Income Growth](https://econ.jhu.edu/people/ccarroll/papers/BufferStockTheory/#AnalysisoftheConvergedConsumptionFunction)\n",
    "\n",
    "The next figure is shown in  [Analysis of the Converged Consumption Function](https://econ.jhu.edu/people/ccarroll/papers/BufferStockTheory/#cGroTargetFig), which shows the expected consumption growth factor $\\mathrm{\\mathbb{E}}_{t}[c_{t+1}/c_{t}]$ for a consumer behaving according to the converged consumption rule.\n"
   ]
  },
  {
   "cell_type": "code",
   "execution_count": 7,
   "metadata": {
    "code_folding": []
   },
   "outputs": [
    {
     "data": {
      "application/vnd.jupyter.widget-view+json": {
       "model_id": "b63c1901a2d54cb2bb3f8ac1ab00fe60",
       "version_major": 2,
       "version_minor": 0
      },
      "text/plain": [
       "interactive(children=(FloatSlider(value=1.04, continuous_update=False, description='R', max=1.08, min=1.01, re…"
      ]
     },
     "metadata": {},
     "output_type": "display_data"
    }
   ],
   "source": [
    "c = interactive(\n",
    "    makeGrowthplot,\n",
    "    Rfree=Rfree_widget[2],\n",
    "    PermGroFac=PermGroFac_widget[2],\n",
    "    DiscFac=DiscFac_widget[2],\n",
    "    CRRA=CRRA_widget[2],\n",
    ")\n",
    "c"
   ]
  },
  {
   "cell_type": "markdown",
   "metadata": {
    "code_folding": []
   },
   "source": [
    "### [Consumption Function Bounds](https://econ.jhu.edu/people/ccarroll/papers/BufferStockTheory/#AnalysisOfTheConvergedConsumptionFunction)\n",
    "[The next figure](https://econ.jhu.edu/people/ccarroll/papers/BufferStockTheory/#cFuncBounds)\n",
    "illustrates theoretical bounds for the consumption function.\n",
    "\n",
    "We define two useful variables: lower bound of $\\MPC$ (marginal propensity to consume) and limit of $h$ (Human wealth), along with some functions such as the limiting perfect foresight consumption function $\\bar{c}(m)$, the upper bound function $\\bar{\\bar c}(m)$, and the lower bound function \\underline{_c_}$(m)$."
   ]
  },
  {
   "cell_type": "code",
   "execution_count": 8,
   "metadata": {
    "code_folding": [
     0
    ],
    "lines_to_next_cell": 2
   },
   "outputs": [
    {
     "data": {
      "application/vnd.jupyter.widget-view+json": {
       "model_id": "226644123076429089f0fbd8631627d8",
       "version_major": 2,
       "version_minor": 0
      },
      "text/plain": [
       "interactive(children=(FloatSlider(value=1.04, continuous_update=False, description='R', max=1.08, min=1.01, re…"
      ]
     },
     "metadata": {},
     "output_type": "display_data"
    }
   ],
   "source": [
    "d = interactive(\n",
    "    makeBoundsfig,\n",
    "    Rfree=Rfree_widget[3],\n",
    "    PermGroFac=PermGroFac_widget[3],\n",
    "    DiscFac=DiscFac_widget[3],\n",
    "    CRRA=CRRA_widget[3],\n",
    ")\n",
    "d"
   ]
  },
  {
   "cell_type": "markdown",
   "metadata": {},
   "source": [
    "### [The Consumption Function and Target $m$](https://econ.jhu.edu/people/ccarroll/papers/BufferStockTheory/#cFuncBounds)\n",
    "\n",
    "This figure shows the $\\mathrm{\\mathbb{E}}_{t}[\\Delta m_{t+1}]$ and consumption function $c(m_{t})$, along with the intersection of these two functions, which defines the target value of $m$"
   ]
  },
  {
   "cell_type": "code",
   "execution_count": 9,
   "metadata": {
    "lines_to_next_cell": 2
   },
   "outputs": [
    {
     "data": {
      "application/vnd.jupyter.widget-view+json": {
       "model_id": "2ddcf778888e453ab81895c4c4fafb7e",
       "version_major": 2,
       "version_minor": 0
      },
      "text/plain": [
       "interactive(children=(FloatSlider(value=1.04, continuous_update=False, description='R', max=1.08, min=1.01, re…"
      ]
     },
     "metadata": {},
     "output_type": "display_data"
    }
   ],
   "source": [
    "e = interactive(\n",
    "    makeTargetMfig,\n",
    "    Rfree=Rfree_widget[4],\n",
    "    PermGroFac=PermGroFac_widget[4],\n",
    "    DiscFac=DiscFac_widget[4],\n",
    "    CRRA=CRRA_widget[4],\n",
    ")\n",
    "e"
   ]
  },
  {
   "cell_type": "code",
   "execution_count": null,
   "metadata": {},
   "outputs": [],
   "source": []
  }
 ],
 "metadata": {
  "jupytext": {
   "cell_metadata_filter": "ExecuteTime,autoscroll,heading_collapsed,hidden,-hide_ouput,-code_folding",
   "encoding": "# -*- coding: utf-8 -*-",
   "formats": "ipynb,py:percent",
   "notebook_metadata_filter": "all"
  },
  "kernelspec": {
   "display_name": "Python 3",
   "language": "python",
   "name": "python3"
  },
  "language_info": {
   "codemirror_mode": {
    "name": "ipython",
    "version": 3
   },
   "file_extension": ".py",
   "mimetype": "text/x-python",
   "name": "python",
   "nbconvert_exporter": "python",
   "pygments_lexer": "ipython3",
   "version": "3.7.7"
  }
 },
 "nbformat": 4,
 "nbformat_minor": 4
}
